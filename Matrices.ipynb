{
 "cells": [
  {
   "cell_type": "code",
   "execution_count": 16,
   "metadata": {
    "scrolled": true
   },
   "outputs": [],
   "source": [
    "# Creating a matrix\n",
    "\n",
    "def GetNumber(message, min_value=None):\n",
    "    while True:\n",
    "        try:\n",
    "            value = int(input(message + ': ')) \n",
    "            if min_value != None:\n",
    "                if value < min_value:\n",
    "                    raise ValueError\n",
    "        except ValueError:\n",
    "            if min_value == None:\n",
    "                print('Enter an integer')\n",
    "            else:\n",
    "                print('Enter an integer (not less than {})'.format(min_value))\n",
    "        else:\n",
    "            break\n",
    "    return value\n",
    "\n",
    "def MatrixValues(rows, columns):\n",
    "    matrix_list = []\n",
    "    for x in range(rows):\n",
    "        curr_list = []\n",
    "        for y in range(columns):\n",
    "            curr_list.append(GetNumber('input value {} for row {}: '.format(y+1, x+1)))\n",
    "        matrix_list.append(curr_list)\n",
    "    return(matrix_list)\n",
    "\n",
    "def CreateMatrix(rows=None, columns=None):\n",
    "    if rows == None:\n",
    "        rows = GetNumber('Enter number of rows', 1)\n",
    "    if columns == None:\n",
    "        columns = GetNumber('Enter number of columns', 1)\n",
    "    matrix_list = MatrixValues(rows, columns)\n",
    "    PrintMatrix(matrix_list)\n",
    "    print (matrix_list)\n",
    "    return matrix_list, rows, columns\n",
    "        \n",
    "def PrintMatrix(matrix_list):\n",
    "    for a in matrix_list:\n",
    "        z = ''\n",
    "        for b in a:\n",
    "            z += '%-6d, ' % b\n",
    "        print('[ '+ z[:-2] + ']')\n",
    "        \n",
    "def ScalarMultiplication(matrix_list, rows, columns):\n",
    "    multiplier = GetNumber('Enter Multiplier', 1)\n",
    "    for row in range(rows):\n",
    "        for column in range(columns):\n",
    "            matrix_list[row][column] = matrix_list[row][column]*multiplier\n",
    "    PrintMatrix(matrix_list)\n",
    "    \n",
    "# CreateMatrix()"
   ]
  },
  {
   "cell_type": "code",
   "execution_count": 17,
   "metadata": {},
   "outputs": [
    {
     "name": "stdout",
     "output_type": "stream",
     "text": [
      "Enter number of rows: 3\n",
      "input value 1 for row 1: : 1\n",
      "input value 2 for row 1: : 2\n",
      "input value 3 for row 1: : 3\n",
      "input value 1 for row 2: : 4\n",
      "input value 2 for row 2: : 1\n",
      "input value 3 for row 2: : 2\n",
      "input value 1 for row 3: : 3\n",
      "input value 2 for row 3: : 1\n",
      "input value 3 for row 3: : 2\n",
      "[ 1     , 2     , 3     ]\n",
      "[ 4     , 1     , 2     ]\n",
      "[ 3     , 1     , 2     ]\n",
      "[[1, 2, 3], [4, 1, 2], [3, 1, 2]]\n",
      "Enter Multiplier: 3\n"
     ]
    },
    {
     "data": {
      "text/plain": [
       "-21"
      ]
     },
     "execution_count": 17,
     "metadata": {},
     "output_type": "execute_result"
    }
   ],
   "source": [
    "# Finding the determinant of a matrix\n",
    "def ExtractColumn(matrix_list, column):\n",
    "    new_list = []\n",
    "    for row in matrix_list:\n",
    "        new_list.append(row[column])\n",
    "    return new_list\n",
    "\n",
    "def Determine(multiplier, matrix_list):\n",
    "    determinant_val = multiplier * (matrix_list[0][0] * matrix_list[1][1] - matrix_list[0][1] * matrix_list[1][0])\n",
    "    return determinant_val\n",
    "            \n",
    "def BreakDown(matrix_list, rows, columns, multiplier = None):\n",
    "    new_list = []\n",
    "    for x in range(columns):\n",
    "        curr_list = []\n",
    "        new_multiplier = multiplier \n",
    "        if (x+1) % 2 == 1:\n",
    "            new_multiplier = multiplier * -1\n",
    "        if columns == 3:\n",
    "            for \n",
    "            new_multiplier *= matrix_list[0][x] \n",
    "            curr_list.append(matrix_list[])\n",
    "\n",
    "matrix_list, rows, columns = CreateMatrix(None, rows)\n",
    "multiplier = GetNumber('Enter Multiplier', 1)\n",
    "Determine (multiplier, matrix_list)\n"
   ]
  },
  {
   "cell_type": "code",
   "execution_count": null,
   "metadata": {},
   "outputs": [],
   "source": []
  },
  {
   "cell_type": "code",
   "execution_count": null,
   "metadata": {},
   "outputs": [],
   "source": []
  }
 ],
 "metadata": {
  "kernelspec": {
   "display_name": "Python 3",
   "language": "python",
   "name": "python3"
  },
  "language_info": {
   "codemirror_mode": {
    "name": "ipython",
    "version": 3
   },
   "file_extension": ".py",
   "mimetype": "text/x-python",
   "name": "python",
   "nbconvert_exporter": "python",
   "pygments_lexer": "ipython3",
   "version": "3.7.0"
  }
 },
 "nbformat": 4,
 "nbformat_minor": 2
}
