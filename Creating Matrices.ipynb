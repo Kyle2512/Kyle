{
 "cells": [
  {
   "cell_type": "code",
   "execution_count": null,
   "metadata": {},
   "outputs": [],
   "source": [
    "# Creating a matrix\n",
    "\n",
    "def GetNumber(message, min_value=None):\n",
    "    while True:\n",
    "        try:\n",
    "            value = int(input(message + ': ')) \n",
    "            if min_value != None:\n",
    "                if value < min_value:\n",
    "                    raise ValueError\n",
    "        except ValueError:\n",
    "            if min_value == None:\n",
    "                print('Enter an integer')\n",
    "            else:\n",
    "                print('Enter an integer (not less than {})'.format(min_value))\n",
    "        else:\n",
    "            break\n",
    "    return value\n",
    "\n",
    "def MatrixValues(rows, columns):\n",
    "    matrix_list = []\n",
    "    for x in range(rows):\n",
    "        curr_list = []\n",
    "        for y in range(columns):\n",
    "            curr_list.append(GetNumber('input value {} for row {}: '.format(y+1, x+1)))\n",
    "        matrix_list.append(curr_list)\n",
    "    return(matrix_list)\n",
    "\n",
    "def CreateMatrix(rows=None, columns=None):\n",
    "    if rows == None:\n",
    "        rows = GetNumber('Enter number of rows', 1)\n",
    "    if columns == None:\n",
    "        columns = GetNumber('Enter number of columns', 1)\n",
    "    matrix_list = MatrixValues(rows, columns)\n",
    "    PrintMatrix(matrix_list)\n",
    "    print (matrix_list)\n",
    "    return matrix_list, rows, columns\n",
    "        \n",
    "def PrintMatrix(matrix_list):\n",
    "    for a in matrix_list:\n",
    "        z = ''\n",
    "        for b in a:\n",
    "            z += '%-6d, ' % b\n",
    "        print('[ '+ z[:-2] + ']')\n",
    "\n",
    "CreateMatrix()"
   ]
  }
 ],
 "metadata": {
  "kernelspec": {
   "display_name": "Python 3",
   "language": "python",
   "name": "python3"
  },
  "language_info": {
   "codemirror_mode": {
    "name": "ipython",
    "version": 3
   },
   "file_extension": ".py",
   "mimetype": "text/x-python",
   "name": "python",
   "nbconvert_exporter": "python",
   "pygments_lexer": "ipython3",
   "version": "3.7.0"
  }
 },
 "nbformat": 4,
 "nbformat_minor": 2
}
