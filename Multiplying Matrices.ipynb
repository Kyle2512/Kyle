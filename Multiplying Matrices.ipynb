{
 "cells": [
  {
   "cell_type": "code",
   "execution_count": null,
   "metadata": {},
   "outputs": [],
   "source": [
    "# Multiplying Matrices\n",
    "def ExtractColumn(matrix_list, column):\n",
    "    new_list = []\n",
    "    for row in matrix_list:\n",
    "        new_list.append(row[column])\n",
    "    return new_list\n",
    "def ExtractRow(matrix_list, row):\n",
    "    return matrix_list[row]\n",
    "\n",
    "def MultiplyMatrix(m1,m2):\n",
    "    tot = 0\n",
    "    for i in range(len(m1)):\n",
    "        tot += m1[i]*m2[i]\n",
    "    return tot\n",
    "\n",
    "matrix_list, rows, columns = CreateMatrix()\n",
    "a = columns\n",
    "matrix_list1, rows1, columns1 = CreateMatrix(rows = columns)\n",
    "\n",
    "tmp_mat = []\n",
    "for row in range(len(matrix_list)):\n",
    "    tmp_row = []\n",
    "    for column in range(len(matrix_list1[0])):\n",
    "        tmp_row.append(MultiplyMatrix(ExtractRow(matrix_list, row),ExtractColumn(matrix_list1, column)))\n",
    "    tmp_mat.append(tmp_row)\n",
    "\n",
    "PrintMatrix(tmp_mat)"
   ]
  }
 ],
 "metadata": {
  "kernelspec": {
   "display_name": "Python 3",
   "language": "python",
   "name": "python3"
  },
  "language_info": {
   "codemirror_mode": {
    "name": "ipython",
    "version": 3
   },
   "file_extension": ".py",
   "mimetype": "text/x-python",
   "name": "python",
   "nbconvert_exporter": "python",
   "pygments_lexer": "ipython3",
   "version": "3.7.0"
  }
 },
 "nbformat": 4,
 "nbformat_minor": 2
}
