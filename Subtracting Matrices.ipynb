{
 "cells": [
  {
   "cell_type": "code",
   "execution_count": null,
   "metadata": {},
   "outputs": [],
   "source": [
    "# Subtracting matrices\n",
    "print('Create two matrices with equal parameters')\n",
    "matrix_list, rows, columns = CreateMatrix()\n",
    "matrix_list1, rows1, columns1 = CreateMatrix(rows, columns)\n",
    "new_list = []\n",
    "for x in range(rows):\n",
    "    curr_list = []\n",
    "    for y in range(columns):\n",
    "        curr_list.append(matrix_list[x][y] - matrix_list1[x][y])\n",
    "    new_list.append(curr_list)\n",
    "PrintMatrix(new_list)"
   ]
  }
 ],
 "metadata": {
  "kernelspec": {
   "display_name": "Python 3",
   "language": "python",
   "name": "python3"
  },
  "language_info": {
   "codemirror_mode": {
    "name": "ipython",
    "version": 3
   },
   "file_extension": ".py",
   "mimetype": "text/x-python",
   "name": "python",
   "nbconvert_exporter": "python",
   "pygments_lexer": "ipython3",
   "version": "3.7.0"
  }
 },
 "nbformat": 4,
 "nbformat_minor": 2
}
